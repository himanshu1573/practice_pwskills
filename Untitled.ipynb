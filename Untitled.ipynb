{
 "cells": [
  {
   "cell_type": "code",
   "execution_count": 1,
   "id": "d5c9c272-fa2a-491c-8916-14c11f5ba83b",
   "metadata": {},
   "outputs": [
    {
     "name": "stdout",
     "output_type": "stream",
     "text": [
      "9\n",
      "27\n",
      "81\n",
      "243\n",
      "729\n"
     ]
    }
   ],
   "source": [
    "n =2**10\n",
    "i= 3**2\n",
    "while i<n:\n",
    "    print(i)\n",
    "    i = i*3**1"
   ]
  },
  {
   "cell_type": "code",
   "execution_count": 6,
   "id": "a6cfd1a8-a914-449d-bff7-aa3b62cf2f2c",
   "metadata": {},
   "outputs": [
    {
     "name": "stdout",
     "output_type": "stream",
     "text": [
      "32\n",
      "42\n",
      "52\n",
      "62\n",
      "72\n",
      "82\n",
      "92\n",
      "102\n",
      "112\n",
      "122\n",
      "132\n",
      "142\n",
      "152\n",
      "162\n",
      "172\n",
      "182\n",
      "192\n",
      "202\n",
      "212\n",
      "222\n",
      "232\n",
      "242\n",
      "252\n",
      "262\n",
      "272\n",
      "282\n",
      "292\n",
      "this is my default\n"
     ]
    }
   ],
   "source": [
    "n=298\n",
    "i=32\n",
    "while i< n:\n",
    "    print(i)\n",
    "    i =i+10 \n",
    "else:\n",
    "    print('this is my default')\n",
    "    "
   ]
  },
  {
   "cell_type": "code",
   "execution_count": 8,
   "id": "fdb91d6a-b13d-4875-b236-1a5181c43181",
   "metadata": {},
   "outputs": [
    {
     "name": "stdout",
     "output_type": "stream",
     "text": [
      "32\n",
      "42\n",
      "52\n",
      "62\n",
      "72\n",
      "82\n",
      "92\n",
      "102\n",
      "112\n",
      "122\n",
      "132\n",
      "142\n",
      "152\n",
      "162\n",
      "172\n",
      "182\n",
      "192\n",
      "202\n",
      "212\n",
      "222\n",
      "232\n",
      "242\n",
      "252\n",
      "262\n",
      "272\n",
      "282\n",
      "292\n",
      "this is my default\n"
     ]
    }
   ],
   "source": [
    "n=298\n",
    "i=32\n",
    "while i< n:\n",
    "    print(i)\n",
    "    i =i+10\n",
    "    if i ==278 :\n",
    "        break\n",
    "else:\n",
    "    print('this is my default')\n",
    "    "
   ]
  },
  {
   "cell_type": "code",
   "execution_count": null,
   "id": "b52cd14e-762c-4e8f-a4ad-c0a12e6cede2",
   "metadata": {},
   "outputs": [],
   "source": []
  },
  {
   "cell_type": "code",
   "execution_count": null,
   "id": "565410ce-f7a3-49b9-93a9-c863e0c66ad3",
   "metadata": {},
   "outputs": [],
   "source": []
  },
  {
   "cell_type": "code",
   "execution_count": 4,
   "id": "0e4e32c7-cf5f-45de-8c31-9e583e9ebd7c",
   "metadata": {},
   "outputs": [
    {
     "name": "stdout",
     "output_type": "stream",
     "text": [
      "h\n",
      "i\n",
      "m\n",
      "a\n",
      "n\n",
      "s\n",
      "h\n",
      "u\n",
      "p\n",
      "r\n",
      "a\n",
      "j\n",
      "a\n",
      "p\n",
      "a\n",
      "t\n",
      "i\n",
      "g\n",
      "a\n",
      "n\n",
      "g\n",
      "a\n",
      "d\n",
      "a\n",
      "y\n",
      "a\n",
      "l\n"
     ]
    }
   ],
   "source": [
    "a = \"himanshuprajapatigangadayal\"\n",
    "for i in a:\n",
    "    print(i)"
   ]
  },
  {
   "cell_type": "code",
   "execution_count": 5,
   "id": "2b0851f2-882a-454f-8076-a842a1b6a73b",
   "metadata": {},
   "outputs": [
    {
     "name": "stdout",
     "output_type": "stream",
     "text": [
      "h\n",
      "i\n",
      "m\n",
      "a\n",
      "n\n",
      "s\n",
      "h\n",
      "u\n"
     ]
    }
   ],
   "source": [
    "a = 'himanshu'\n",
    "for i in a :\n",
    "    print(i)"
   ]
  },
  {
   "cell_type": "code",
   "execution_count": 6,
   "id": "224c0759-4a94-47a1-a6dd-c149cde42acc",
   "metadata": {},
   "outputs": [
    {
     "name": "stdout",
     "output_type": "stream",
     "text": [
      "a\n",
      "b\n",
      "a\n",
      "h\n",
      "y\n"
     ]
    }
   ],
   "source": [
    "b= \"abahy\"\n",
    "for i in b:\n",
    "    print (i)"
   ]
  },
  {
   "cell_type": "code",
   "execution_count": 7,
   "id": "a3ef79dc-3c5b-41f9-a9e5-9ccda36b3f88",
   "metadata": {},
   "outputs": [
    {
     "ename": "SyntaxError",
     "evalue": "invalid syntax (2705250658.py, line 1)",
     "output_type": "error",
     "traceback": [
      "\u001b[0;36m  Cell \u001b[0;32mIn[7], line 1\u001b[0;36m\u001b[0m\n\u001b[0;31m    c= [1,2,3,a,sd,'himanshuprajapati',pwisemotion,2.34,++-*]\u001b[0m\n\u001b[0m                                                           ^\u001b[0m\n\u001b[0;31mSyntaxError\u001b[0m\u001b[0;31m:\u001b[0m invalid syntax\n"
     ]
    }
   ],
   "source": [
    "c= [1,2,3,a,sd,'himanshuprajapati',pwisemotion,2.34]"
   ]
  },
  {
   "cell_type": "code",
   "execution_count": 10,
   "id": "a493a45a-89b3-4368-a405-fb6196bc58d0",
   "metadata": {},
   "outputs": [
    {
     "ename": "NameError",
     "evalue": "name 'c' is not defined",
     "output_type": "error",
     "traceback": [
      "\u001b[0;31m---------------------------------------------------------------------------\u001b[0m",
      "\u001b[0;31mNameError\u001b[0m                                 Traceback (most recent call last)",
      "Cell \u001b[0;32mIn[10], line 1\u001b[0m\n\u001b[0;32m----> 1\u001b[0m \u001b[38;5;28;01mfor\u001b[39;00m a \u001b[38;5;129;01min\u001b[39;00m \u001b[43mc\u001b[49m:\n\u001b[1;32m      2\u001b[0m     \u001b[38;5;28mprint\u001b[39m(\u001b[38;5;28mtype\u001b[39m(a))\n",
      "\u001b[0;31mNameError\u001b[0m: name 'c' is not defined"
     ]
    }
   ],
   "source": [
    "for a in c:\n",
    "    print(type(a))"
   ]
  },
  {
   "cell_type": "code",
   "execution_count": 15,
   "id": "c9fbb972-3551-471a-b940-8f8549a5121a",
   "metadata": {},
   "outputs": [],
   "source": [
    "a = [1,2,3,1.332,'himanshu']\n"
   ]
  },
  {
   "cell_type": "code",
   "execution_count": 16,
   "id": "dd39cee5-dfc9-42d9-b7fc-746776f9f626",
   "metadata": {},
   "outputs": [
    {
     "name": "stdout",
     "output_type": "stream",
     "text": [
      "<class 'int'>\n",
      "<class 'int'>\n",
      "<class 'int'>\n",
      "<class 'float'>\n",
      "<class 'str'>\n"
     ]
    }
   ],
   "source": [
    "for i in a :\n",
    "    print(type(i))"
   ]
  },
  {
   "cell_type": "code",
   "execution_count": 18,
   "id": "6d99870c-038b-4792-98fc-d441982086a9",
   "metadata": {},
   "outputs": [
    {
     "data": {
      "text/plain": [
       "range(0, 20)"
      ]
     },
     "execution_count": 18,
     "metadata": {},
     "output_type": "execute_result"
    }
   ],
   "source": [
    "range(20)"
   ]
  },
  {
   "cell_type": "code",
   "execution_count": 22,
   "id": "1d0a0f94-15aa-4ae6-ab48-cce1e5b64c23",
   "metadata": {},
   "outputs": [
    {
     "data": {
      "text/plain": [
       "[0, 1, 2, 3, 4, 5, 6, 7, 8, 9, 10, 11, 12, 13, 14, 15, 16, 17, 18, 19]"
      ]
     },
     "execution_count": 22,
     "metadata": {},
     "output_type": "execute_result"
    }
   ],
   "source": [
    "list(range(20))"
   ]
  },
  {
   "cell_type": "code",
   "execution_count": 24,
   "id": "2106c9ad-58e2-4827-b57b-65f5b038ebdb",
   "metadata": {},
   "outputs": [
    {
     "data": {
      "text/plain": [
       "[0, 1, 2, 3, 4, 5, 6, 7, 8, 9]"
      ]
     },
     "execution_count": 24,
     "metadata": {},
     "output_type": "execute_result"
    }
   ],
   "source": [
    "list(range(10))"
   ]
  },
  {
   "cell_type": "code",
   "execution_count": null,
   "id": "d8e67365-4d95-4041-8c58-e349472e94f8",
   "metadata": {},
   "outputs": [],
   "source": []
  }
 ],
 "metadata": {
  "kernelspec": {
   "display_name": "Python 3 (ipykernel)",
   "language": "python",
   "name": "python3"
  },
  "language_info": {
   "codemirror_mode": {
    "name": "ipython",
    "version": 3
   },
   "file_extension": ".py",
   "mimetype": "text/x-python",
   "name": "python",
   "nbconvert_exporter": "python",
   "pygments_lexer": "ipython3",
   "version": "3.10.8"
  }
 },
 "nbformat": 4,
 "nbformat_minor": 5
}
